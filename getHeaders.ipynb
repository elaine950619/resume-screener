{
 "cells": [
  {
   "cell_type": "markdown",
   "metadata": {},
   "source": [
    "## How do we get data by header?"
   ]
  },
  {
   "cell_type": "code",
   "execution_count": 4,
   "metadata": {},
   "outputs": [],
   "source": [
    "import pdfplumber\n",
    "def get_lines(name):\n",
    "    with pdfplumber.open(name) as pdf:\n",
    "        return pdf.pages[0].extract_text_lines()\n",
    "\n",
    "\n",
    "lines = get_lines(\"bryan-resume.pdf\")"
   ]
  },
  {
   "cell_type": "code",
   "execution_count": 5,
   "metadata": {},
   "outputs": [
    {
     "name": "stdout",
     "output_type": "stream",
     "text": [
      "dict_keys(['text', 'x0', 'top', 'x1', 'bottom', 'chars'])\n"
     ]
    }
   ],
   "source": [
    "print(lines[0].keys())"
   ]
  },
  {
   "cell_type": "markdown",
   "metadata": {},
   "source": [
    "From every line, pdfplumber gives us information into it's location on the page x0,x1 and top,bottom and each char data which includes styling. For now, all we care about is the text at \"text\""
   ]
  },
  {
   "cell_type": "code",
   "execution_count": 6,
   "metadata": {},
   "outputs": [
    {
     "name": "stdout",
     "output_type": "stream",
     "text": [
      "Bryan Ehlers\n",
      "(507)-403-1634 bryan-ehlers@uiowa.edu\n",
      "Education\n",
      "bryan ehlers\n",
      "(507)-403-1634 bryan-ehlers@uiowa.edu\n",
      "education\n",
      "['bryan', 'ehlers']\n",
      "['(507)-403-1634', 'bryan-ehlers@uiowa.edu']\n",
      "['education']\n"
     ]
    }
   ],
   "source": [
    "for line in lines[0:3]:\n",
    "    print(line['text'])\n",
    "for line in lines[0:3]:\n",
    "    print(line['text'].lower())\n",
    "for line in lines[0:3]:\n",
    "    print(line['text'].lower().split())"
   ]
  },
  {
   "cell_type": "markdown",
   "metadata": {},
   "source": [
    "#### You can add to these if you want"
   ]
  },
  {
   "cell_type": "code",
   "execution_count": 7,
   "metadata": {},
   "outputs": [],
   "source": [
    "SECTION_TITLES = [\n",
    "    \"employment\",\n",
    "    \"education\",\n",
    "    \"experience\",\n",
    "    \"projects\",\n",
    "    \"skills\",\n",
    "    \"coursework\",\n",
    "    \"research\",\n",
    "    \"achievements\",\n",
    "    \"technologies\",\n",
    "]\n"
   ]
  },
  {
   "cell_type": "markdown",
   "metadata": {},
   "source": [
    "### Implement get sections\n",
    "We keep track of the section we're in and add all lines into that section as long as we're in it. Problem is determining if we're in a section"
   ]
  },
  {
   "cell_type": "code",
   "execution_count": 24,
   "metadata": {},
   "outputs": [],
   "source": [
    "# TODO: implement this\n",
    "# should give back the section title we're in now\n",
    "# if this isn't a section, return \"\"\n",
    "def section_title(line):\n",
    "    line = line[\"text\"].lower()\n",
    "    if line in SECTION_TITLES: \n",
    "        return line\n",
    "    return \"\""
   ]
  },
  {
   "cell_type": "code",
   "execution_count": 25,
   "metadata": {},
   "outputs": [
    {
     "name": "stdout",
     "output_type": "stream",
     "text": [
      "education\n",
      "Bachelors of Science - Electrical Engineering (3.41/4.0) Expected: May 2017\n",
      "Minor - Computer Science\n",
      "University of Iowa, Iowa City, IA\n",
      "Relevant Coursework\n",
      "Electrical Engineering: Circuit Lab 1 and 2, Circuit Design, Digital Design\n",
      "Computer Science: Data Structures, Algorithms, C++,\n",
      "\n",
      "experience\n",
      "University of Iowa Carver College of Medicine — Iowa City, IA\n",
      "- Research Assistant February 2014 – March 2015\n",
      "• Designed a database using Microsoft Access to store 100+ interview responses.\n",
      "• Trained new employees in laboratory processes and proper documentation.\n",
      "• Troubleshoot laboratory processes to identify and address inefficiencies.\n",
      "NanoMedTrix, LLC — Coralville, IA\n",
      "- Image Processing Engineer October 2014 – January 2015\n",
      "• Supported research team by compiling MRI data.\n",
      "City of Northfield — Northfield, IA\n",
      "- Lifeguard June 2013 – August 2013\n",
      "• Maintain safe and secure swimming area by enforcing rules, policies, and procedures.\n",
      "• Take care of pool.\n",
      "Kmart — Northfield, IA\n",
      "- Electronics Associate May 2011 – August 2013\n",
      "• Help customers purchase electronics.\n",
      "• Stock and organize items.\n",
      "\n",
      "skills\n",
      "Programming Languages: C, C++, and Python\n",
      "Operating Systems: Linux/Unix system, Windows\n",
      "Software: NI Multisim, SPICE software, LATEX\n",
      "Laboratory: oscilloscope, logic analyzer, signal generator, solder, and multimeter\n",
      "\n",
      "projects\n",
      "Raspberry Pi Robot\n",
      "- Individual\n",
      "• Using a Raspberry Pi to construct a remote control robot.\n",
      "• Camera module connection for live streaming robot vision back to monitor.\n",
      "• Developed Python code to control robot motions and camera module.\n",
      "3pi Robot\n",
      "- Group Project\n",
      "• Developed C code to control robot motion and ability to autonomously traverse a maze.\n",
      "Activities\n",
      "Institute of Electrical and Electronic Engineers — Member\n",
      "University of Iowa Powerlifting Club Treasurer (2013) — Member (Present)\n",
      "Awards\n",
      "Awarded Dean’s List for Fall 2013, Fall 2014\n",
      "\n"
     ]
    }
   ],
   "source": [
    "from collections import defaultdict\n",
    "\n",
    "def get_sections(lines):\n",
    "    sectionData = defaultdict(list)\n",
    "\n",
    "\n",
    "    section = \"\"\n",
    "    for line in lines:\n",
    "        if not len(line):\n",
    "            continue\n",
    "        res = section_title(line)\n",
    "        if res:\n",
    "            section = res\n",
    "        elif len(section):\n",
    "            sectionData[section].append(line[\"text\"])\n",
    "    \n",
    "    return sectionData\n",
    "\n",
    "\n",
    "data = get_sections(lines)\n",
    "for key in data:\n",
    "    print(key)\n",
    "    for line in data[key]:\n",
    "        print(line)\n",
    "    print()"
   ]
  }
 ],
 "metadata": {
  "kernelspec": {
   "display_name": "env",
   "language": "python",
   "name": "python3"
  },
  "language_info": {
   "codemirror_mode": {
    "name": "ipython",
    "version": 3
   },
   "file_extension": ".py",
   "mimetype": "text/x-python",
   "name": "python",
   "nbconvert_exporter": "python",
   "pygments_lexer": "ipython3",
   "version": "3.12.8"
  }
 },
 "nbformat": 4,
 "nbformat_minor": 2
}
